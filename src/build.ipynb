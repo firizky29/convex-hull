{
 "cells": [
  {
   "cell_type": "code",
   "execution_count": 28,
   "metadata": {},
   "outputs": [],
   "source": [
    "import numpy as np \n",
    "import pandas as pd \n",
    "import matplotlib.pyplot as plt \n",
    "from sklearn import datasets \n",
    "from scipy.spatial import ConvexHull\n",
    "\n",
    "data = datasets.load_iris() \n",
    "df = pd.DataFrame(data.data, columns=data.feature_names) \n",
    "df['Target'] = pd.DataFrame(data.target) \n",
    "\n"
   ]
  },
  {
   "cell_type": "code",
   "execution_count": 29,
   "metadata": {},
   "outputs": [
    {
     "name": "stdout",
     "output_type": "stream",
     "text": [
      "(2, 3)\n"
     ]
    }
   ],
   "source": [
    "def minmax(points, key = lambda x: x[0]):\n",
    "    mn = np.finfo(np.float64).max\n",
    "    mx = np.finfo(np.float64).min\n",
    "    for i in range(len(points)):\n",
    "        if(mn > key(points[i])):\n",
    "            mn = key(points[i])\n",
    "            idmn = i\n",
    "        if(mx < key(points[i])):\n",
    "            mx = key(points[i])\n",
    "            idmx = i\n",
    "    return idmn, idmx\n",
    "\n",
    "print(minmax([[1,2],[10,2],[-1,10],[11,11]]))"
   ]
  },
  {
   "cell_type": "code",
   "execution_count": 30,
   "metadata": {},
   "outputs": [
    {
     "data": {
      "text/plain": [
       "[<matplotlib.lines.Line2D at 0x25ea9468a00>]"
      ]
     },
     "execution_count": 30,
     "metadata": {},
     "output_type": "execute_result"
    },
    {
     "data": {
      "image/png": "[encoded data removed]",
      "text/plain": [
       "<Figure size 432x288 with 1 Axes>"
      ]
     },
     "metadata": {
      "needs_background": "light"
     },
     "output_type": "display_data"
    }
   ],
   "source": [
    "def classifyRegion(point, p1, p2):\n",
    "    x1, y1 = p1\n",
    "    x2, y2 = p2\n",
    "    xt, yt = point\n",
    "    # buat persamaan garis ay = bx + c\n",
    "    a = x2-x1\n",
    "    b = y2-y1\n",
    "    c = (x2-x1)*y1 - (y2-y1)*x1\n",
    "    # 1 is above\n",
    "    # 0 is in the line\n",
    "    # -1 is below\n",
    "    if(a*yt > b*xt + c):\n",
    "        return 1\n",
    "    elif(np.abs(a*yt-b*xt-c)<1e-9):\n",
    "        return 0\n",
    "    else:\n",
    "        return -1\n",
    "\n",
    "points = df[df['Target'] == 0]\n",
    "points = points.iloc[:,[0,1]].values\n",
    "mn, mx = minmax(points)\n",
    "s1 = np.array([point for point in points if classifyRegion(point, points[mn], points[mx])==1])\n",
    "s2 = np.array([point for point in points if classifyRegion(point, points[mn], points[mx])==-1])\n",
    "plt.scatter(s1[:, 0], s1[:, 1])\n",
    "plt.scatter(s2[:, 0], s2[:, 1])\n",
    "plt.plot(points[[mn, mx], 0], points[[mn, mx], 1], \"g\")\n"
   ]
  },
  {
   "cell_type": "code",
   "execution_count": 33,
   "metadata": {},
   "outputs": [
    {
     "data": {
      "text/plain": [
       "[<matplotlib.lines.Line2D at 0x25eaa50a130>]"
      ]
     },
     "execution_count": 33,
     "metadata": {},
     "output_type": "execute_result"
    },
    {
     "data": {
      "image/png": "[encoded data removed]",
      "text/plain": [
       "<Figure size 432x288 with 1 Axes>"
      ]
     },
     "metadata": {
      "needs_background": "light"
     },
     "output_type": "display_data"
    }
   ],
   "source": [
    "def getExtremeNode(points, p1, p2):\n",
    "    def getDist(point):\n",
    "        x1, y1 = p1\n",
    "        x2, y2 = p2\n",
    "        xt, yt = point\n",
    "        # buat persamaan garis ay = bx + c\n",
    "        a = x2-x1\n",
    "        b = y2-y1\n",
    "        c = (x2-x1)*y1 - (y2-y1)*x1\n",
    "        denum = np.hypot(a, b)\n",
    "        num = np.abs(a*yt - b*xt - c)\n",
    "        return num/denum\n",
    "    _, mx = minmax(points, getDist)\n",
    "    return points[mx]\n",
    "\n",
    "p1 = getExtremeNode(s1, points[mn], points[mx])\n",
    "p2 = getExtremeNode(s2, points[mn], points[mx])\n",
    "\n",
    "plt.scatter(s1[:, 0], s1[:, 1])\n",
    "plt.scatter(s2[:, 0], s2[:, 1])\n",
    "plt.scatter(p1[0], p1[1])\n",
    "plt.scatter(p2[0], p2[1])\n",
    "plt.plot(points[[mn, mx], 0], points[[mn, mx], 1], \"g\")"
   ]
  },
  {
   "cell_type": "code",
   "execution_count": null,
   "metadata": {},
   "outputs": [],
   "source": []
  },
  {
   "cell_type": "code",
   "execution_count": null,
   "metadata": {},
   "outputs": [
    {
     "ename": "SyntaxError",
     "evalue": "unexpected EOF while parsing (Temp/ipykernel_22288/1330667250.py, line 3)",
     "output_type": "error",
     "traceback": [
      "\u001b[1;36m  File \u001b[1;32m\"C:\\Users\\FIRIZK~1\\AppData\\Local\\Temp/ipykernel_22288/1330667250.py\"\u001b[1;36m, line \u001b[1;32m3\u001b[0m\n\u001b[1;33m    \u001b[0m\n\u001b[1;37m    ^\u001b[0m\n\u001b[1;31mSyntaxError\u001b[0m\u001b[1;31m:\u001b[0m unexpected EOF while parsing\n"
     ]
    }
   ],
   "source": [
    "def MyConvexHull(points):\n",
    "    \n",
    "\n"
   ]
  },
  {
   "cell_type": "code",
   "execution_count": null,
   "metadata": {},
   "outputs": [],
   "source": []
  },
  {
   "cell_type": "code",
   "execution_count": null,
   "metadata": {},
   "outputs": [
    {
     "name": "stdout",
     "output_type": "stream",
     "text": [
      "[[13, 47], [47, 14], [14, 41], [41, 13]]\n",
      "[[7, 47], [47, 0], [0, 18], [18, 7]]\n",
      "[[6, 10], [10, 31], [31, 18], [18, 6]]\n"
     ]
    },
    {
     "data": {
      "image/png": "[encoded data removed]",
      "text/plain": [
       "<Figure size 432x288 with 1 Axes>"
      ]
     },
     "metadata": {
      "needs_background": "light"
     },
     "output_type": "display_data"
    }
   ],
   "source": [
    "# plt.figure(figsize = (10, 6))\n",
    "colors = ['b','r','g']\n",
    "# plt.title('Petal Width vs Petal Length')\n",
    "# plt.xlabel(data.feature_names[0])\n",
    "# plt.ylabel(data.feature_names[1])\n",
    "for i in range(3):\n",
    "    bucket = df[df['Target'] == i]\n",
    "    bucket = bucket.iloc[:,[0,1]].values\n",
    "    hull = MyConvexHull(np.array(bucket))\n",
    "    print(hull)\n",
    "    plt.scatter(bucket[:, 0], bucket[:, 1], label=data.target_names[i])\n",
    "    for simplex in hull:\n",
    "        plt.plot(bucket[simplex, 0], bucket[simplex, 1], colors[i])"
   ]
  },
  {
   "cell_type": "code",
   "execution_count": null,
   "metadata": {},
   "outputs": [
    {
     "name": "stdout",
     "output_type": "stream",
     "text": [
      "<class 'str'>\n"
     ]
    }
   ],
   "source": [
    "df = open(\"./tes.csv\", \"r\")\n",
    "print(type(df.read()))"
   ]
  },
  {
   "cell_type": "code",
   "execution_count": null,
   "metadata": {},
   "outputs": [
    {
     "data": {
      "text/plain": [
       "[[1.3, 2, 0], [2, 3, 1]]"
      ]
     },
     "execution_count": 36,
     "metadata": {},
     "output_type": "execute_result"
    }
   ],
   "source": [
    "Points = [[1.3,2],[2,3]]\n",
    "Points = [Points[j]+[j] for j in range(len(Points))]\n",
    "Points"
   ]
  },
  {
   "cell_type": "code",
   "execution_count": null,
   "metadata": {},
   "outputs": [],
   "source": []
  }
 ],
 "metadata": {
  "interpreter": {
   "hash": "11dc288d3529c67e78d2263326826e791416032fe05ceeb283e9ade39eefc4da"
  },
  "kernelspec": {
   "display_name": "Python 3.8.9 64-bit",
   "language": "python",
   "name": "python3"
  },
  "language_info": {
   "codemirror_mode": {
    "name": "ipython",
    "version": 3
   },
   "file_extension": ".py",
   "mimetype": "text/x-python",
   "name": "python",
   "nbconvert_exporter": "python",
   "pygments_lexer": "ipython3",
   "version": "3.8.9"
  },
  "orig_nbformat": 4
 },
 "nbformat": 4,
 "nbformat_minor": 2
}
